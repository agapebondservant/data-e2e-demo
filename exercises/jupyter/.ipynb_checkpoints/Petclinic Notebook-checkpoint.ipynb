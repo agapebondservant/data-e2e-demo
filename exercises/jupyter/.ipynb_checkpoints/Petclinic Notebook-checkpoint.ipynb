{
 "cells": [
  {
   "cell_type": "code",
   "execution_count": 89,
   "metadata": {},
   "outputs": [
    {
     "name": "stdout",
     "output_type": "stream",
     "text": [
      "Requirement already satisfied: matplotlib==3.1.1 in /Users/oawofolu/opt/anaconda3/lib/python3.8/site-packages (from -r requirements.txt (line 1)) (3.1.1)\n",
      "Requirement already satisfied: psycopg2-binary in /Users/oawofolu/opt/anaconda3/lib/python3.8/site-packages (from -r requirements.txt (line 2)) (2.9.1)\n",
      "Requirement already satisfied: sqlalchemy in /Users/oawofolu/opt/anaconda3/lib/python3.8/site-packages (from -r requirements.txt (line 3)) (1.3.20)\n",
      "Requirement already satisfied: python-dotenv in /Users/oawofolu/opt/anaconda3/lib/python3.8/site-packages (from -r requirements.txt (line 4)) (0.18.0)\n",
      "Requirement already satisfied: pyparsing!=2.0.4,!=2.1.2,!=2.1.6,>=2.0.1 in /Users/oawofolu/opt/anaconda3/lib/python3.8/site-packages (from matplotlib==3.1.1->-r requirements.txt (line 1)) (2.4.7)\n",
      "Requirement already satisfied: python-dateutil>=2.1 in /Users/oawofolu/opt/anaconda3/lib/python3.8/site-packages (from matplotlib==3.1.1->-r requirements.txt (line 1)) (2.8.1)\n",
      "Requirement already satisfied: cycler>=0.10 in /Users/oawofolu/opt/anaconda3/lib/python3.8/site-packages (from matplotlib==3.1.1->-r requirements.txt (line 1)) (0.10.0)\n",
      "Requirement already satisfied: numpy>=1.11 in /Users/oawofolu/opt/anaconda3/lib/python3.8/site-packages (from matplotlib==3.1.1->-r requirements.txt (line 1)) (1.19.2)\n",
      "Requirement already satisfied: kiwisolver>=1.0.1 in /Users/oawofolu/opt/anaconda3/lib/python3.8/site-packages (from matplotlib==3.1.1->-r requirements.txt (line 1)) (1.3.0)\n",
      "Requirement already satisfied: six>=1.5 in /Users/oawofolu/opt/anaconda3/lib/python3.8/site-packages (from python-dateutil>=2.1->matplotlib==3.1.1->-r requirements.txt (line 1)) (1.15.0)\n"
     ]
    }
   ],
   "source": [
    "import pandas as pd, sys, json, requests\n",
    "!{sys.executable} -m pip install -r requirements.txt"
   ]
  },
  {
   "cell_type": "markdown",
   "metadata": {},
   "source": [
    "# Connect to Greenplum"
   ]
  },
  {
   "cell_type": "code",
   "execution_count": 92,
   "metadata": {},
   "outputs": [],
   "source": [
    "from sqlalchemy import create_engine\n",
    "postgres_str = ('postgresql://{username}:{password}@{ipaddress}:{port}/{dbname}'.format(\n",
    "    username='gpadmin',password='gpadmin', \n",
    "    ipaddress='greenplum.greenplum-operator.svc.cluster.local', port=5432, dbname='gpadmin'))\n",
    "\n",
    "cnx = create_engine(postgres_str)\n",
    "pd.read_sql_query('''SELECT unnest(array['intercept', 'treatment_cost', 'wait_time']) as attribute,\n",
    "       unnest(coef) as coefficient,\n",
    "       unnest(std_err) as standard_error,\n",
    "       unnest(z_stats) as z_stat,\n",
    "       unnest(p_values) as pvalue,\n",
    "       unnest(odds_ratios) as odds_ratio\n",
    "    FROM madlib.clinical_data_logreg;''', cnx)\n"
   ]
  },
  {
   "cell_type": "code",
   "execution_count": null,
   "metadata": {},
   "outputs": [],
   "source": []
  }
 ],
 "metadata": {
  "kernelspec": {
   "display_name": "Python 3",
   "language": "python",
   "name": "python3"
  },
  "language_info": {
   "codemirror_mode": {
    "name": "ipython",
    "version": 3
   },
   "file_extension": ".py",
   "mimetype": "text/x-python",
   "name": "python",
   "nbconvert_exporter": "python",
   "pygments_lexer": "ipython3",
   "version": "3.8.5"
  }
 },
 "nbformat": 4,
 "nbformat_minor": 4
}
