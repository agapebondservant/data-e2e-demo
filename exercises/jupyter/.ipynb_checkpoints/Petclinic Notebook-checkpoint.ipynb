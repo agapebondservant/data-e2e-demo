{
 "cells": [
  {
   "cell_type": "code",
   "execution_count": 98,
   "metadata": {},
   "outputs": [
    {
     "name": "stdout",
     "output_type": "stream",
     "text": [
      "Requirement already satisfied: matplotlib==3.1.1 in /Users/oawofolu/opt/anaconda3/lib/python3.8/site-packages (from -r requirements.txt (line 1)) (3.1.1)\n",
      "Requirement already satisfied: psycopg2-binary in /Users/oawofolu/opt/anaconda3/lib/python3.8/site-packages (from -r requirements.txt (line 2)) (2.9.1)\n",
      "Requirement already satisfied: sqlalchemy in /Users/oawofolu/opt/anaconda3/lib/python3.8/site-packages (from -r requirements.txt (line 3)) (1.3.20)\n",
      "Requirement already satisfied: python-dotenv in /Users/oawofolu/opt/anaconda3/lib/python3.8/site-packages (from -r requirements.txt (line 4)) (0.18.0)\n",
      "Requirement already satisfied: kiwisolver>=1.0.1 in /Users/oawofolu/opt/anaconda3/lib/python3.8/site-packages (from matplotlib==3.1.1->-r requirements.txt (line 1)) (1.3.0)\n",
      "Requirement already satisfied: cycler>=0.10 in /Users/oawofolu/opt/anaconda3/lib/python3.8/site-packages (from matplotlib==3.1.1->-r requirements.txt (line 1)) (0.10.0)\n",
      "Requirement already satisfied: python-dateutil>=2.1 in /Users/oawofolu/opt/anaconda3/lib/python3.8/site-packages (from matplotlib==3.1.1->-r requirements.txt (line 1)) (2.8.1)\n",
      "Requirement already satisfied: pyparsing!=2.0.4,!=2.1.2,!=2.1.6,>=2.0.1 in /Users/oawofolu/opt/anaconda3/lib/python3.8/site-packages (from matplotlib==3.1.1->-r requirements.txt (line 1)) (2.4.7)\n",
      "Requirement already satisfied: numpy>=1.11 in /Users/oawofolu/opt/anaconda3/lib/python3.8/site-packages (from matplotlib==3.1.1->-r requirements.txt (line 1)) (1.19.2)\n",
      "Requirement already satisfied: six in /Users/oawofolu/opt/anaconda3/lib/python3.8/site-packages (from cycler>=0.10->matplotlib==3.1.1->-r requirements.txt (line 1)) (1.15.0)\n"
     ]
    }
   ],
   "source": [
    "import pandas as pd, sys, json, requests, os"
   ]
  },
  {
   "cell_type": "code",
   "execution_count": 106,
   "metadata": {},
   "outputs": [
    {
     "name": "stdout",
     "output_type": "stream",
     "text": [
      "The dotenv extension is already loaded. To reload it, use:\n",
      "  %reload_ext dotenv\n",
      "None\n"
     ]
    }
   ],
   "source": [
    "%load_ext dotenv"
   ]
  },
  {
   "cell_type": "markdown",
   "metadata": {},
   "source": [
    "# Connect to Greenplum and view clinical recommendation data"
   ]
  },
  {
   "cell_type": "raw",
   "metadata": {},
   "source": [
    "from sqlalchemy import create_engine\n",
    "postgres_str = ('postgresql://{username}:{password}@{ipaddress}:{port}/{dbname}'.format(\n",
    "    username='gpadmin',password='gpadmin', \n",
    "    ipaddress='greenplum.greenplum-system.svc.cluster.local', port=5432, dbname='gpadmin'))\n",
    "cnx = create_engine(postgres_str)\n",
    "pd.read_sql_query('''SELECT * FROM madlib.pxf_clinical_data_000;''', cnx)"
   ]
  },
  {
   "cell_type": "markdown",
   "metadata": {},
   "source": [
    "# Training: Run logistic regression training in Greenplum"
   ]
  },
  {
   "cell_type": "raw",
   "metadata": {},
   "source": [
    "pd.read_sql_query('''SELECT madlib.logregr_train('madlib.pxf_clinical_data_000',\n",
    "'madlib.clinical_data_logreg',\n",
    "'recommended','ARRAY[1, treatment_cost, wait_time]');''',\n",
    "cnx)"
   ]
  },
  {
   "cell_type": "markdown",
   "metadata": {},
   "source": [
    "## View results"
   ]
  },
  {
   "cell_type": "raw",
   "metadata": {},
   "source": [
    "pd.read_sql_query('''SELECT unnest(array['intercept', 'treatment_cost', 'wait_time']) as attribute,\n",
    "       unnest(coef) as coefficient,\n",
    "       unnest(std_err) as standard_error,\n",
    "       unnest(z_stats) as z_stat,\n",
    "       unnest(p_values) as pvalue,\n",
    "       unnest(odds_ratios) as odds_ratio\n",
    "    FROM madlib.clinical_data_logreg;''', cnx)"
   ]
  },
  {
   "cell_type": "markdown",
   "metadata": {},
   "source": [
    "# Get latest model"
   ]
  },
  {
   "cell_type": "raw",
   "metadata": {},
   "source": [
    "#hostname=\"http://a143c48aad4224f26a6fc0512d8eef69-1726262314.us-east-2.elb.amazonaws.com\"\n",
    "def get_model():\n",
    "    url=hostname + \":7070/geode/v1/clinicalDataModel\"\n",
    "    response = requests.request(\"GET\",url)\n",
    "    model=json.loads(response.json()['clinicalDataModel'][0]['row_to_json']['value'])\n",
    "    return model\n",
    "\n",
    "print(json.dumps(get_model(),indent=4))"
   ]
  },
  {
   "cell_type": "markdown",
   "metadata": {},
   "source": [
    "# Inference: Run scoring function to provide recommendations"
   ]
  },
  {
   "cell_type": "markdown",
   "metadata": {},
   "source": [
    "Generate score for input data x &emsp;: $normalize(predict(x)) = 1/(1+e^x)$"
   ]
  },
  {
   "cell_type": "raw",
   "metadata": {},
   "source": [
    "def normalize(score):\n",
    "    return int(1 / (1 + exp(-score))\n",
    "\n",
    "def calculate_score(data): #data should be consistent with format {treatment_cost:x, wait_time:y}\n",
    "    model = get_model()\n",
    "    score = data['interval'] = 0\n",
    "    features = ['interval','treatment_cost','wait_time']\n",
    "    \n",
    "    for idx, weight in model.coef:\n",
    "        score += weight * data[ features[idx] ]\n",
    "        \n",
    "    return normalize(score)"
   ]
  },
  {
   "cell_type": "code",
   "execution_count": null,
   "metadata": {},
   "outputs": [],
   "source": []
  }
 ],
 "metadata": {
  "kernelspec": {
   "display_name": "Python 3",
   "language": "python",
   "name": "python3"
  },
  "language_info": {
   "codemirror_mode": {
    "name": "ipython",
    "version": 3
   },
   "file_extension": ".py",
   "mimetype": "text/x-python",
   "name": "python",
   "nbconvert_exporter": "python",
   "pygments_lexer": "ipython3",
   "version": "3.8.5"
  }
 },
 "nbformat": 4,
 "nbformat_minor": 4
}
