{
 "cells": [
  {
   "cell_type": "code",
   "execution_count": 96,
   "metadata": {},
   "outputs": [
    {
     "name": "stdout",
     "output_type": "stream",
     "text": [
      "Requirement already satisfied: matplotlib==3.1.1 in /Users/oawofolu/opt/anaconda3/lib/python3.8/site-packages (from -r requirements.txt (line 1)) (3.1.1)\n",
      "Requirement already satisfied: psycopg2-binary in /Users/oawofolu/opt/anaconda3/lib/python3.8/site-packages (from -r requirements.txt (line 2)) (2.9.1)\n",
      "Requirement already satisfied: sqlalchemy in /Users/oawofolu/opt/anaconda3/lib/python3.8/site-packages (from -r requirements.txt (line 3)) (1.3.20)\n",
      "Requirement already satisfied: python-dotenv in /Users/oawofolu/opt/anaconda3/lib/python3.8/site-packages (from -r requirements.txt (line 4)) (0.18.0)\n",
      "Requirement already satisfied: pyparsing!=2.0.4,!=2.1.2,!=2.1.6,>=2.0.1 in /Users/oawofolu/opt/anaconda3/lib/python3.8/site-packages (from matplotlib==3.1.1->-r requirements.txt (line 1)) (2.4.7)\n",
      "Requirement already satisfied: kiwisolver>=1.0.1 in /Users/oawofolu/opt/anaconda3/lib/python3.8/site-packages (from matplotlib==3.1.1->-r requirements.txt (line 1)) (1.3.0)\n",
      "Requirement already satisfied: python-dateutil>=2.1 in /Users/oawofolu/opt/anaconda3/lib/python3.8/site-packages (from matplotlib==3.1.1->-r requirements.txt (line 1)) (2.8.1)\n",
      "Requirement already satisfied: numpy>=1.11 in /Users/oawofolu/opt/anaconda3/lib/python3.8/site-packages (from matplotlib==3.1.1->-r requirements.txt (line 1)) (1.19.2)\n",
      "Requirement already satisfied: cycler>=0.10 in /Users/oawofolu/opt/anaconda3/lib/python3.8/site-packages (from matplotlib==3.1.1->-r requirements.txt (line 1)) (0.10.0)\n",
      "Requirement already satisfied: six>=1.5 in /Users/oawofolu/opt/anaconda3/lib/python3.8/site-packages (from python-dateutil>=2.1->matplotlib==3.1.1->-r requirements.txt (line 1)) (1.15.0)\n"
     ]
    }
   ],
   "source": [
    "import pandas as pd, sys, json, requests, os\n",
    "!{sys.executable} -m pip install -r requirements.txt\n",
    "from dotenv import load_dotenv"
   ]
  },
  {
   "cell_type": "code",
   "execution_count": 97,
   "metadata": {},
   "outputs": [
    {
     "name": "stdout",
     "output_type": "stream",
     "text": [
      "environ({'TERM_PROGRAM': 'Apple_Terminal', 'M2': '/usr/local/Cellar/maven/3.6.1/libexec/bin', 'TERM': 'xterm-color', 'SHELL': '/bin/bash', 'TMPDIR': '/var/folders/5y/9xdc_js94k1dwlvwf8b6hxs80000gp/T/', 'CONDA_SHLVL': '1', 'CONDA_PROMPT_MODIFIER': '(base) ', 'TERM_PROGRAM_VERSION': '440', 'TERM_SESSION_ID': '423584FA-5F34-4774-ACE9-7E6F7BC1D466', 'USER': 'oawofolu', 'CONDA_EXE': '/Users/oawofolu/opt/anaconda3/bin/conda', 'SSH_AUTH_SOCK': '/private/tmp/com.apple.launchd.CNZMy5VOKY/Listeners', '_CE_CONDA': '', 'GEODE_HOME': '/Users/oawofolu/PIVOTAL/apache-geode-1.13.2', 'PATH': '/Users/oawofolu/opt/anaconda3/bin:/Users/oawofolu/opt/anaconda3/condabin:/Users/oawofolu/google-cloud-sdk/bin:/usr/local/bin:/usr/bin:/bin:/usr/sbin:/sbin:/usr/local/go/bin:/usr/local/share/dotnet:/opt/X11/bin:~/.dotnet/tools:/Library/Frameworks/Mono.framework/Versions/Current/Commands:/usr/local/Cellar/maven/3.6.1/libexec/bin:/Users/oawofolu/PIVOTAL/installs/kafka/kafka_2.12-2.5.0/bin:/Library/Java/JavaVirtualMachines/jdk-11.0.2.jdk/Contents/Home/bin:/Users/oawofolu/PIVOTAL/apache-geode-1.13.2/bin', 'CONDA_PREFIX': '/Users/oawofolu/opt/anaconda3', '__CFBundleIdentifier': 'com.apple.Terminal', 'PWD': '/Users/oawofolu/PIVOTAL/data/educates/tanzu-data-e2e/demo', 'JAVA_HOME': '/Library/Java/JavaVirtualMachines/jdk-11.0.2.jdk/Contents/Home', 'LANG': 'en_US.UTF-8', 'XPC_FLAGS': '0x0', '_CE_M': '', 'XPC_SERVICE_NAME': '0', 'M2_HOME': '/usr/local/Cellar/maven/3.6.1/libexec', 'HOME': '/Users/oawofolu', 'SHLVL': '1', 'CONDA_PYTHON_EXE': '/Users/oawofolu/opt/anaconda3/bin/python', 'LOGNAME': 'oawofolu', 'CONDA_DEFAULT_ENV': 'base', 'DISPLAY': '/private/tmp/com.apple.launchd.amorACKFU1/org.macosforge.xquartz:0', 'JAVA_8_HOME': '/Library/Internet Plug-Ins/JavaAppletPlugin.plugin/Contents/Home', '_': '/Users/oawofolu/opt/anaconda3/bin/jupyter', 'JPY_PARENT_PID': '94265', 'CLICOLOR': '1', 'PAGER': 'cat', 'GIT_PAGER': 'cat', 'MPLBACKEND': 'module://ipykernel.pylab.backend_inline'})\n"
     ]
    }
   ],
   "source": [
    "%load_ext dotenv"
   ]
  },
  {
   "cell_type": "markdown",
   "metadata": {},
   "source": [
    "# Connect to Greenplum and view clinical recommendation data"
   ]
  },
  {
   "cell_type": "raw",
   "metadata": {},
   "source": [
    "from sqlalchemy import create_engine\n",
    "postgres_str = ('postgresql://{username}:{password}@{ipaddress}:{port}/{dbname}'.format(\n",
    "    username='gpadmin',password='gpadmin', \n",
    "    ipaddress='greenplum.greenplum-operator.svc.cluster.local', port=5432, dbname='gpadmin'))\n",
    "cnx = create_engine(postgres_str)\n",
    "pd.read_sql_query('''SELECT * FROM madlib.pxf_clinical_data_000;''', cnx)"
   ]
  },
  {
   "cell_type": "markdown",
   "metadata": {},
   "source": [
    "# Training: Run logistic regression training in Greenplum"
   ]
  },
  {
   "cell_type": "raw",
   "metadata": {},
   "source": [
    "pd.read_sql_query('''SELECT unnest(array['intercept', 'treatment_cost', 'wait_time']) as attribute,\n",
    "       unnest(coef) as coefficient,\n",
    "       unnest(std_err) as standard_error,\n",
    "       unnest(z_stats) as z_stat,\n",
    "       unnest(p_values) as pvalue,\n",
    "       unnest(odds_ratios) as odds_ratio\n",
    "    FROM madlib.clinical_data_logreg;''', cnx)"
   ]
  },
  {
   "cell_type": "markdown",
   "metadata": {},
   "source": [
    "# Get latest model"
   ]
  },
  {
   "cell_type": "raw",
   "metadata": {},
   "source": [
    "url = \"http://gemfire1-locator-0.gemfire1-locator\" os.environ[\"SESSION_NAMESPACE\"] \":7070/geode/v1/clinicalDataModel\"\n",
    "\n",
    "def get_model():\n",
    "    response = requests.request(\"GET\",url)\n",
    "    model=json.loads(response.json()['clinicalDataModel'][0]['row_to_json']['value'])\n",
    "    print(json.dumps(model, indent=4))\n",
    "    return model"
   ]
  },
  {
   "cell_type": "markdown",
   "metadata": {},
   "source": [
    "# Inference: Run scoring function to provide recommendations"
   ]
  },
  {
   "cell_type": "markdown",
   "metadata": {},
   "source": [
    "Generate score for input data x &emsp;: $normalize(predict(x)) = 1/(1+e^x)$"
   ]
  },
  {
   "cell_type": "raw",
   "metadata": {},
   "source": [
    "def normalize(score):\n",
    "    return int(1 / (1 + exp(-score)) * 10) #returns values between 0 and 10\n",
    "\n",
    "def calculate_score(data):\n",
    "    model = get_model()\n",
    "    result = COEFS.copy()\n",
    "    # find answers that were true and flag as 1, 0 otherwise\n",
    "    for idx, row in enumerate(COEFS):\n",
    "        if row[1] in input_data.keys():\n",
    "            result[idx].append(1)\n",
    "        else:\n",
    "            result[idx].append(0)\n",
    "\n",
    "    # multiply the flag by the coefficient to get the points\n",
    "    for idx, row in enumerate(COEFS):\n",
    "        result[idx].append(row[2] * row[-1])\n",
    "\n",
    "    # sum all points and the intercept\n",
    "    score = INTERCEPT\n",
    "    for row in result:\n",
    "        score += row[-1]\n",
    "\n",
    "    return normalize(score)\n"
   ]
  },
  {
   "cell_type": "code",
   "execution_count": null,
   "metadata": {},
   "outputs": [],
   "source": []
  }
 ],
 "metadata": {
  "kernelspec": {
   "display_name": "Python 3",
   "language": "python",
   "name": "python3"
  },
  "language_info": {
   "codemirror_mode": {
    "name": "ipython",
    "version": 3
   },
   "file_extension": ".py",
   "mimetype": "text/x-python",
   "name": "python",
   "nbconvert_exporter": "python",
   "pygments_lexer": "ipython3",
   "version": "3.8.5"
  }
 },
 "nbformat": 4,
 "nbformat_minor": 4
}
