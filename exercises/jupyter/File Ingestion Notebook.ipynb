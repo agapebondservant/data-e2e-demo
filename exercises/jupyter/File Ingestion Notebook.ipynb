{
 "cells": [
  {
   "cell_type": "code",
   "execution_count": 1,
   "metadata": {},
   "outputs": [],
   "source": [
    "import pandas as pd, sys, json, requests, os, faker"
   ]
  },
  {
   "cell_type": "code",
   "execution_count": 2,
   "metadata": {},
   "outputs": [],
   "source": [
    "%load_ext dotenv\n",
    "print(os.environ)"
   ]
  },
  {
   "cell_type": "markdown",
   "metadata": {},
   "source": [
    "# Set variables"
   ]
  },
  {
   "cell_type": "raw",
   "metadata": {},
   "source": [
    "# Provide the password here: %env TESTDBPASSWORD=\n",
    "%env TESTDBPASSWORD="
   ]
  },
  {
   "cell_type": "markdown",
   "metadata": {},
   "source": [
    "# Connect to Postgres and view test database table"
   ]
  },
  {
   "cell_type": "raw",
   "metadata": {},
   "source": [
    "from sqlalchemy import create_engine\n",
    "postgres_str = ('postgresql://{username}:{password}@{ipaddress}:{port}/{dbname}'.format(\n",
    "    username='pgadmin',password=os.environ['TESTDBPASSWORD'], \n",
    "    ipaddress='pginstance-1.'+os.environ['SESSION_NAMESPACE']+'.svc.cluster.local', port=5432, dbname='pginstance-1'))\n",
    "cnx = create_engine(postgres_str)\n",
    "pd.read_sql_query('''SELECT * FROM test;''', cnx)"
   ]
  }
 ],
 "metadata": {
  "kernelspec": {
   "display_name": "Python 3",
   "language": "python",
   "name": "python3"
  },
  "language_info": {
   "codemirror_mode": {
    "name": "ipython",
    "version": 3
   },
   "file_extension": ".py",
   "mimetype": "text/x-python",
   "name": "python",
   "nbconvert_exporter": "python",
   "pygments_lexer": "ipython3",
   "version": "3.8.5"
  }
 },
 "nbformat": 4,
 "nbformat_minor": 4
}
